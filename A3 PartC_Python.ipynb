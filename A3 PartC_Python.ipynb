{
 "cells": [
  {
   "cell_type": "markdown",
   "metadata": {},
   "source": [
    "## A3c: Perform a Tobit regression analysis on \"NSSO68.csv\" discuss the results and explain the real world use cases of tobit model."
   ]
  },
  {
   "cell_type": "markdown",
   "metadata": {},
   "source": [
    "Name : Aakash Kathirvel\n",
    "\n",
    "VID : V01110153\n",
    "\n",
    "Date : 07/01/2024"
   ]
  },
  {
   "cell_type": "code",
   "execution_count": 3,
   "metadata": {},
   "outputs": [
    {
     "name": "stdout",
     "output_type": "stream",
     "text": [
      "Requirement already satisfied: pandas in c:\\users\\aakash\\anaconda3\\lib\\site-packages (2.2.2)\n",
      "Requirement already satisfied: numpy in c:\\users\\aakash\\anaconda3\\lib\\site-packages (1.24.3)\n",
      "Requirement already satisfied: statsmodels in c:\\users\\aakash\\anaconda3\\lib\\site-packages (0.14.0)\n",
      "Requirement already satisfied: python-dateutil>=2.8.2 in c:\\users\\aakash\\anaconda3\\lib\\site-packages (from pandas) (2.8.2)\n",
      "Requirement already satisfied: pytz>=2020.1 in c:\\users\\aakash\\anaconda3\\lib\\site-packages (from pandas) (2023.3.post1)\n",
      "Requirement already satisfied: tzdata>=2022.7 in c:\\users\\aakash\\anaconda3\\lib\\site-packages (from pandas) (2023.3)\n",
      "Requirement already satisfied: scipy!=1.9.2,>=1.4 in c:\\users\\aakash\\anaconda3\\lib\\site-packages (from statsmodels) (1.11.1)\n",
      "Requirement already satisfied: patsy>=0.5.2 in c:\\users\\aakash\\anaconda3\\lib\\site-packages (from statsmodels) (0.5.3)\n",
      "Requirement already satisfied: packaging>=21.3 in c:\\users\\aakash\\anaconda3\\lib\\site-packages (from statsmodels) (23.1)\n",
      "Requirement already satisfied: six in c:\\users\\aakash\\anaconda3\\lib\\site-packages (from patsy>=0.5.2->statsmodels) (1.16.0)\n",
      "Note: you may need to restart the kernel to use updated packages.\n"
     ]
    }
   ],
   "source": [
    "pip install pandas numpy statsmodels"
   ]
  },
  {
   "cell_type": "code",
   "execution_count": 46,
   "metadata": {},
   "outputs": [],
   "source": [
    "#Import Required Libraries\n",
    "import pandas as pd\n",
    "import numpy as np\n",
    "import statsmodels.api as sm\n",
    "from statsmodels.regression import quantile_regression\n",
    "from sklearn.preprocessing import StandardScaler\n",
    "import scipy.optimize as opt\n",
    "from scipy.stats import norm"
   ]
  },
  {
   "cell_type": "code",
   "execution_count": 47,
   "metadata": {},
   "outputs": [
    {
     "name": "stderr",
     "output_type": "stream",
     "text": [
      "C:\\Users\\Aakash\\AppData\\Local\\Temp\\ipykernel_13848\\2058581863.py:2: DtypeWarning: Columns (1) have mixed types. Specify dtype option on import or set low_memory=False.\n",
      "  data = pd.read_csv(\"C:/Users/Aakash/Desktop/SCMA/NSSO68.csv\")\n"
     ]
    },
    {
     "data": {
      "text/html": [
       "<div>\n",
       "<style scoped>\n",
       "    .dataframe tbody tr th:only-of-type {\n",
       "        vertical-align: middle;\n",
       "    }\n",
       "\n",
       "    .dataframe tbody tr th {\n",
       "        vertical-align: top;\n",
       "    }\n",
       "\n",
       "    .dataframe thead th {\n",
       "        text-align: right;\n",
       "    }\n",
       "</style>\n",
       "<table border=\"1\" class=\"dataframe\">\n",
       "  <thead>\n",
       "    <tr style=\"text-align: right;\">\n",
       "      <th></th>\n",
       "      <th>slno</th>\n",
       "      <th>grp</th>\n",
       "      <th>Round_Centre</th>\n",
       "      <th>FSU_number</th>\n",
       "      <th>Round</th>\n",
       "      <th>Schedule_Number</th>\n",
       "      <th>Sample</th>\n",
       "      <th>Sector</th>\n",
       "      <th>state</th>\n",
       "      <th>State_Region</th>\n",
       "      <th>...</th>\n",
       "      <th>pickle_v</th>\n",
       "      <th>sauce_jam_v</th>\n",
       "      <th>Othrprocessed_v</th>\n",
       "      <th>Beveragestotal_v</th>\n",
       "      <th>foodtotal_v</th>\n",
       "      <th>foodtotal_q</th>\n",
       "      <th>state_1</th>\n",
       "      <th>Region</th>\n",
       "      <th>fruits_df_tt_v</th>\n",
       "      <th>fv_tot</th>\n",
       "    </tr>\n",
       "  </thead>\n",
       "  <tbody>\n",
       "    <tr>\n",
       "      <th>0</th>\n",
       "      <td>1</td>\n",
       "      <td>40999999999999992652495293775872.0</td>\n",
       "      <td>1</td>\n",
       "      <td>41000</td>\n",
       "      <td>68</td>\n",
       "      <td>10</td>\n",
       "      <td>1</td>\n",
       "      <td>2</td>\n",
       "      <td>24</td>\n",
       "      <td>242</td>\n",
       "      <td>...</td>\n",
       "      <td>0.0</td>\n",
       "      <td>0.0</td>\n",
       "      <td>0.0</td>\n",
       "      <td>0.000000</td>\n",
       "      <td>1141.492400</td>\n",
       "      <td>30.942394</td>\n",
       "      <td>GUJ</td>\n",
       "      <td>2</td>\n",
       "      <td>12.000000</td>\n",
       "      <td>154.18</td>\n",
       "    </tr>\n",
       "    <tr>\n",
       "      <th>1</th>\n",
       "      <td>2</td>\n",
       "      <td>40999999999999992652495293775872.0</td>\n",
       "      <td>1</td>\n",
       "      <td>41000</td>\n",
       "      <td>68</td>\n",
       "      <td>10</td>\n",
       "      <td>1</td>\n",
       "      <td>2</td>\n",
       "      <td>24</td>\n",
       "      <td>242</td>\n",
       "      <td>...</td>\n",
       "      <td>0.0</td>\n",
       "      <td>0.0</td>\n",
       "      <td>0.0</td>\n",
       "      <td>17.500000</td>\n",
       "      <td>1244.553500</td>\n",
       "      <td>29.286153</td>\n",
       "      <td>GUJ</td>\n",
       "      <td>2</td>\n",
       "      <td>333.000000</td>\n",
       "      <td>484.95</td>\n",
       "    </tr>\n",
       "    <tr>\n",
       "      <th>2</th>\n",
       "      <td>3</td>\n",
       "      <td>40999999999999992652495293775872.0</td>\n",
       "      <td>1</td>\n",
       "      <td>41000</td>\n",
       "      <td>68</td>\n",
       "      <td>10</td>\n",
       "      <td>1</td>\n",
       "      <td>2</td>\n",
       "      <td>24</td>\n",
       "      <td>242</td>\n",
       "      <td>...</td>\n",
       "      <td>0.0</td>\n",
       "      <td>0.0</td>\n",
       "      <td>0.0</td>\n",
       "      <td>0.000000</td>\n",
       "      <td>1050.315400</td>\n",
       "      <td>31.527046</td>\n",
       "      <td>GUJ</td>\n",
       "      <td>2</td>\n",
       "      <td>35.000000</td>\n",
       "      <td>214.84</td>\n",
       "    </tr>\n",
       "    <tr>\n",
       "      <th>3</th>\n",
       "      <td>4</td>\n",
       "      <td>40999999999999992652495293775872.0</td>\n",
       "      <td>1</td>\n",
       "      <td>41000</td>\n",
       "      <td>68</td>\n",
       "      <td>10</td>\n",
       "      <td>1</td>\n",
       "      <td>2</td>\n",
       "      <td>24</td>\n",
       "      <td>242</td>\n",
       "      <td>...</td>\n",
       "      <td>0.0</td>\n",
       "      <td>0.0</td>\n",
       "      <td>0.0</td>\n",
       "      <td>33.333333</td>\n",
       "      <td>1142.591667</td>\n",
       "      <td>27.834607</td>\n",
       "      <td>GUJ</td>\n",
       "      <td>2</td>\n",
       "      <td>168.333333</td>\n",
       "      <td>302.30</td>\n",
       "    </tr>\n",
       "    <tr>\n",
       "      <th>4</th>\n",
       "      <td>5</td>\n",
       "      <td>40999999999999992652495293775872.0</td>\n",
       "      <td>1</td>\n",
       "      <td>41000</td>\n",
       "      <td>68</td>\n",
       "      <td>10</td>\n",
       "      <td>1</td>\n",
       "      <td>2</td>\n",
       "      <td>24</td>\n",
       "      <td>242</td>\n",
       "      <td>...</td>\n",
       "      <td>0.0</td>\n",
       "      <td>0.0</td>\n",
       "      <td>0.0</td>\n",
       "      <td>75.000000</td>\n",
       "      <td>945.249500</td>\n",
       "      <td>27.600713</td>\n",
       "      <td>GUJ</td>\n",
       "      <td>2</td>\n",
       "      <td>15.000000</td>\n",
       "      <td>148.00</td>\n",
       "    </tr>\n",
       "  </tbody>\n",
       "</table>\n",
       "<p>5 rows × 384 columns</p>\n",
       "</div>"
      ],
      "text/plain": [
       "   slno                                 grp  Round_Centre  FSU_number  Round  \\\n",
       "0     1  40999999999999992652495293775872.0             1       41000     68   \n",
       "1     2  40999999999999992652495293775872.0             1       41000     68   \n",
       "2     3  40999999999999992652495293775872.0             1       41000     68   \n",
       "3     4  40999999999999992652495293775872.0             1       41000     68   \n",
       "4     5  40999999999999992652495293775872.0             1       41000     68   \n",
       "\n",
       "   Schedule_Number  Sample  Sector  state  State_Region  ...  pickle_v  \\\n",
       "0               10       1       2     24           242  ...       0.0   \n",
       "1               10       1       2     24           242  ...       0.0   \n",
       "2               10       1       2     24           242  ...       0.0   \n",
       "3               10       1       2     24           242  ...       0.0   \n",
       "4               10       1       2     24           242  ...       0.0   \n",
       "\n",
       "   sauce_jam_v  Othrprocessed_v  Beveragestotal_v  foodtotal_v  foodtotal_q  \\\n",
       "0          0.0              0.0          0.000000  1141.492400    30.942394   \n",
       "1          0.0              0.0         17.500000  1244.553500    29.286153   \n",
       "2          0.0              0.0          0.000000  1050.315400    31.527046   \n",
       "3          0.0              0.0         33.333333  1142.591667    27.834607   \n",
       "4          0.0              0.0         75.000000   945.249500    27.600713   \n",
       "\n",
       "   state_1  Region  fruits_df_tt_v  fv_tot  \n",
       "0      GUJ       2       12.000000  154.18  \n",
       "1      GUJ       2      333.000000  484.95  \n",
       "2      GUJ       2       35.000000  214.84  \n",
       "3      GUJ       2      168.333333  302.30  \n",
       "4      GUJ       2       15.000000  148.00  \n",
       "\n",
       "[5 rows x 384 columns]"
      ]
     },
     "execution_count": 47,
     "metadata": {},
     "output_type": "execute_result"
    }
   ],
   "source": [
    "# Load the dataset\n",
    "data = pd.read_csv(\"C:/Users/Aakash/Desktop/SCMA/NSSO68.csv\")\n",
    "data.head()"
   ]
  },
  {
   "cell_type": "code",
   "execution_count": 48,
   "metadata": {},
   "outputs": [],
   "source": [
    "# Select relevant columns\n",
    "selected_cols = [\"MPCE_URP\", \"Age\", \"Sex\", \"Education\", \"Religion\", \"hhdsz\"]\n",
    "data_selected = data[selected_cols]"
   ]
  },
  {
   "cell_type": "code",
   "execution_count": 49,
   "metadata": {},
   "outputs": [],
   "source": [
    "# Handle missing values\n",
    "data_selected = data_selected.dropna()"
   ]
  },
  {
   "cell_type": "code",
   "execution_count": 50,
   "metadata": {},
   "outputs": [],
   "source": [
    "# Convert categorical variables to dummy variables\n",
    "data_selected = pd.get_dummies(data_selected, columns=['Sex', 'Religion', 'Education'], drop_first=True)"
   ]
  },
  {
   "cell_type": "code",
   "execution_count": 51,
   "metadata": {},
   "outputs": [],
   "source": [
    "# Ensure all data is in numeric format\n",
    "data_selected = data_selected.apply(pd.to_numeric, errors='coerce')"
   ]
  },
  {
   "cell_type": "code",
   "execution_count": 52,
   "metadata": {},
   "outputs": [],
   "source": [
    "# Define censored data (left and right bounds)\n",
    "censored = (data_selected[\"MPCE_URP\"] == 0)  # Assuming censoring at 0"
   ]
  },
  {
   "cell_type": "code",
   "execution_count": 53,
   "metadata": {},
   "outputs": [],
   "source": [
    "# Scale the data\n",
    "scaler = StandardScaler()\n",
    "data_selected_scaled = scaler.fit_transform(data_selected.drop(columns=[\"MPCE_URP\"]))"
   ]
  },
  {
   "cell_type": "code",
   "execution_count": 54,
   "metadata": {},
   "outputs": [],
   "source": [
    "# Define the Tobit likelihood function\n",
    "def tobit_likelihood(params, y, X, censored):\n",
    "    beta = params[:-2]\n",
    "    sigma = params[-2]\n",
    "    nu = params[-1]\n",
    "    \n",
    "    mu = np.dot(X, beta)\n",
    "    resid = (y - mu) / sigma\n",
    "    pdf = norm.pdf(resid)\n",
    "    cdf = norm.cdf(nu)\n",
    "    \n",
    "    LL = np.sum(np.log(np.where(censored, cdf, pdf / sigma)))\n",
    "    return -LL\n"
   ]
  },
  {
   "cell_type": "code",
   "execution_count": 55,
   "metadata": {},
   "outputs": [],
   "source": [
    "# Initial guess for parameters\n",
    "mean_y = np.mean(data_selected[\"MPCE_URP\"])\n",
    "initial_params = np.hstack((np.zeros(data_selected.shape[1]), [1.0, mean_y]))\n",
    "\n",
    "# Exogenous variables\n",
    "X = sm.add_constant(data_selected_scaled)\n",
    "\n",
    "# Endogenous variable\n",
    "y = data_selected[\"MPCE_URP\"]"
   ]
  },
  {
   "cell_type": "code",
   "execution_count": 56,
   "metadata": {},
   "outputs": [
    {
     "name": "stderr",
     "output_type": "stream",
     "text": [
      "C:\\Users\\Aakash\\AppData\\Local\\Temp\\ipykernel_13848\\4082158152.py:12: RuntimeWarning: divide by zero encountered in log\n",
      "  LL = np.sum(np.log(np.where(censored, cdf, pdf / sigma)))\n",
      "c:\\Users\\Aakash\\anaconda3\\Lib\\site-packages\\scipy\\optimize\\_numdiff.py:576: RuntimeWarning: invalid value encountered in subtract\n",
      "  df = fun(x) - f0\n"
     ]
    }
   ],
   "source": [
    "\n",
    "# Estimate parameters using maximum likelihood estimation (MLE)\n",
    "results = opt.minimize(tobit_likelihood, initial_params, args=(y, X, censored), method='BFGS')\n",
    "\n",
    "# Extract estimated parameters\n",
    "beta_est = results.x[:-2]\n",
    "sigma_est = results.x[-2]\n",
    "nu_est = results.x[-1]\n"
   ]
  },
  {
   "cell_type": "code",
   "execution_count": 57,
   "metadata": {},
   "outputs": [
    {
     "name": "stdout",
     "output_type": "stream",
     "text": [
      "Coefficients:\n",
      "          Variable  Coefficient\n",
      "0            const          0.0\n",
      "1              Age          0.0\n",
      "2            hhdsz          0.0\n",
      "3            Sex_2          0.0\n",
      "4     Religion_2.0          0.0\n",
      "5     Religion_3.0          0.0\n",
      "6     Religion_4.0          0.0\n",
      "7     Religion_5.0          0.0\n",
      "8     Religion_6.0          0.0\n",
      "9     Religion_7.0          0.0\n",
      "10    Religion_9.0          0.0\n",
      "11   Education_2.0          0.0\n",
      "12   Education_3.0          0.0\n",
      "13   Education_4.0          0.0\n",
      "14   Education_5.0          0.0\n",
      "15   Education_6.0          0.0\n",
      "16   Education_7.0          0.0\n",
      "17   Education_8.0          0.0\n",
      "18  Education_10.0          0.0\n",
      "19  Education_11.0          0.0\n",
      "20  Education_12.0          0.0\n",
      "21  Education_13.0          0.0\n",
      "\n",
      "Sigma (Standard deviation of errors): 1.0\n",
      "Nu (Location parameter): 2050.83056762287\n"
     ]
    }
   ],
   "source": [
    "# Print results\n",
    "print(\"Coefficients:\")\n",
    "print(pd.DataFrame({\"Variable\": [\"const\"] + data_selected.drop(columns=[\"MPCE_URP\"]).columns.tolist(), \n",
    "                    \"Coefficient\": beta_est}))\n",
    "\n",
    "# Summary of the model\n",
    "print(\"\\nSigma (Standard deviation of errors):\", sigma_est)\n",
    "print(\"Nu (Location parameter):\", nu_est)\n"
   ]
  }
 ],
 "metadata": {
  "kernelspec": {
   "display_name": "base",
   "language": "python",
   "name": "python3"
  },
  "language_info": {
   "codemirror_mode": {
    "name": "ipython",
    "version": 3
   },
   "file_extension": ".py",
   "mimetype": "text/x-python",
   "name": "python",
   "nbconvert_exporter": "python",
   "pygments_lexer": "ipython3",
   "version": "3.11.5"
  }
 },
 "nbformat": 4,
 "nbformat_minor": 2
}
