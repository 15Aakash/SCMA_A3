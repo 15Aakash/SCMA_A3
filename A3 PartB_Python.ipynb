{
 "cells": [
  {
   "cell_type": "markdown",
   "metadata": {},
   "source": [
    "## A3B :  Perform a probit regression on \"NSSO68.csv\" to identify non-vegetarians. Discuss the results and explain the characteristics and advantages of the probit model"
   ]
  },
  {
   "cell_type": "markdown",
   "metadata": {},
   "source": [
    "Name : Aakash Kathirvel\n",
    "\n",
    "VID : V01110153\n",
    "\n",
    "Date : 07/01/2024"
   ]
  },
  {
   "cell_type": "code",
   "execution_count": null,
   "metadata": {},
   "outputs": [],
   "source": [
    "import pandas as pd\n",
    "import statsmodels.api as sm\n",
    "import matplotlib.pyplot as plt\n",
    "import seaborn as sns\n",
    "import numpy as np\n",
    "from statsmodels.stats.outliers_influence import variance_inflation_factor"
   ]
  },
  {
   "cell_type": "code",
   "execution_count": 39,
   "metadata": {},
   "outputs": [
    {
     "name": "stderr",
     "output_type": "stream",
     "text": [
      "C:\\Users\\Aakash\\AppData\\Local\\Temp\\ipykernel_25848\\2058581863.py:2: DtypeWarning: Columns (1) have mixed types. Specify dtype option on import or set low_memory=False.\n",
      "  data = pd.read_csv(\"C:/Users/Aakash/Desktop/SCMA/NSSO68.csv\")\n"
     ]
    },
    {
     "data": {
      "text/html": [
       "<div>\n",
       "<style scoped>\n",
       "    .dataframe tbody tr th:only-of-type {\n",
       "        vertical-align: middle;\n",
       "    }\n",
       "\n",
       "    .dataframe tbody tr th {\n",
       "        vertical-align: top;\n",
       "    }\n",
       "\n",
       "    .dataframe thead th {\n",
       "        text-align: right;\n",
       "    }\n",
       "</style>\n",
       "<table border=\"1\" class=\"dataframe\">\n",
       "  <thead>\n",
       "    <tr style=\"text-align: right;\">\n",
       "      <th></th>\n",
       "      <th>slno</th>\n",
       "      <th>grp</th>\n",
       "      <th>Round_Centre</th>\n",
       "      <th>FSU_number</th>\n",
       "      <th>Round</th>\n",
       "      <th>Schedule_Number</th>\n",
       "      <th>Sample</th>\n",
       "      <th>Sector</th>\n",
       "      <th>state</th>\n",
       "      <th>State_Region</th>\n",
       "      <th>...</th>\n",
       "      <th>pickle_v</th>\n",
       "      <th>sauce_jam_v</th>\n",
       "      <th>Othrprocessed_v</th>\n",
       "      <th>Beveragestotal_v</th>\n",
       "      <th>foodtotal_v</th>\n",
       "      <th>foodtotal_q</th>\n",
       "      <th>state_1</th>\n",
       "      <th>Region</th>\n",
       "      <th>fruits_df_tt_v</th>\n",
       "      <th>fv_tot</th>\n",
       "    </tr>\n",
       "  </thead>\n",
       "  <tbody>\n",
       "    <tr>\n",
       "      <th>0</th>\n",
       "      <td>1</td>\n",
       "      <td>40999999999999992652495293775872.0</td>\n",
       "      <td>1</td>\n",
       "      <td>41000</td>\n",
       "      <td>68</td>\n",
       "      <td>10</td>\n",
       "      <td>1</td>\n",
       "      <td>2</td>\n",
       "      <td>24</td>\n",
       "      <td>242</td>\n",
       "      <td>...</td>\n",
       "      <td>0.0</td>\n",
       "      <td>0.0</td>\n",
       "      <td>0.0</td>\n",
       "      <td>0.000000</td>\n",
       "      <td>1141.492400</td>\n",
       "      <td>30.942394</td>\n",
       "      <td>GUJ</td>\n",
       "      <td>2</td>\n",
       "      <td>12.000000</td>\n",
       "      <td>154.18</td>\n",
       "    </tr>\n",
       "    <tr>\n",
       "      <th>1</th>\n",
       "      <td>2</td>\n",
       "      <td>40999999999999992652495293775872.0</td>\n",
       "      <td>1</td>\n",
       "      <td>41000</td>\n",
       "      <td>68</td>\n",
       "      <td>10</td>\n",
       "      <td>1</td>\n",
       "      <td>2</td>\n",
       "      <td>24</td>\n",
       "      <td>242</td>\n",
       "      <td>...</td>\n",
       "      <td>0.0</td>\n",
       "      <td>0.0</td>\n",
       "      <td>0.0</td>\n",
       "      <td>17.500000</td>\n",
       "      <td>1244.553500</td>\n",
       "      <td>29.286153</td>\n",
       "      <td>GUJ</td>\n",
       "      <td>2</td>\n",
       "      <td>333.000000</td>\n",
       "      <td>484.95</td>\n",
       "    </tr>\n",
       "    <tr>\n",
       "      <th>2</th>\n",
       "      <td>3</td>\n",
       "      <td>40999999999999992652495293775872.0</td>\n",
       "      <td>1</td>\n",
       "      <td>41000</td>\n",
       "      <td>68</td>\n",
       "      <td>10</td>\n",
       "      <td>1</td>\n",
       "      <td>2</td>\n",
       "      <td>24</td>\n",
       "      <td>242</td>\n",
       "      <td>...</td>\n",
       "      <td>0.0</td>\n",
       "      <td>0.0</td>\n",
       "      <td>0.0</td>\n",
       "      <td>0.000000</td>\n",
       "      <td>1050.315400</td>\n",
       "      <td>31.527046</td>\n",
       "      <td>GUJ</td>\n",
       "      <td>2</td>\n",
       "      <td>35.000000</td>\n",
       "      <td>214.84</td>\n",
       "    </tr>\n",
       "    <tr>\n",
       "      <th>3</th>\n",
       "      <td>4</td>\n",
       "      <td>40999999999999992652495293775872.0</td>\n",
       "      <td>1</td>\n",
       "      <td>41000</td>\n",
       "      <td>68</td>\n",
       "      <td>10</td>\n",
       "      <td>1</td>\n",
       "      <td>2</td>\n",
       "      <td>24</td>\n",
       "      <td>242</td>\n",
       "      <td>...</td>\n",
       "      <td>0.0</td>\n",
       "      <td>0.0</td>\n",
       "      <td>0.0</td>\n",
       "      <td>33.333333</td>\n",
       "      <td>1142.591667</td>\n",
       "      <td>27.834607</td>\n",
       "      <td>GUJ</td>\n",
       "      <td>2</td>\n",
       "      <td>168.333333</td>\n",
       "      <td>302.30</td>\n",
       "    </tr>\n",
       "    <tr>\n",
       "      <th>4</th>\n",
       "      <td>5</td>\n",
       "      <td>40999999999999992652495293775872.0</td>\n",
       "      <td>1</td>\n",
       "      <td>41000</td>\n",
       "      <td>68</td>\n",
       "      <td>10</td>\n",
       "      <td>1</td>\n",
       "      <td>2</td>\n",
       "      <td>24</td>\n",
       "      <td>242</td>\n",
       "      <td>...</td>\n",
       "      <td>0.0</td>\n",
       "      <td>0.0</td>\n",
       "      <td>0.0</td>\n",
       "      <td>75.000000</td>\n",
       "      <td>945.249500</td>\n",
       "      <td>27.600713</td>\n",
       "      <td>GUJ</td>\n",
       "      <td>2</td>\n",
       "      <td>15.000000</td>\n",
       "      <td>148.00</td>\n",
       "    </tr>\n",
       "  </tbody>\n",
       "</table>\n",
       "<p>5 rows × 384 columns</p>\n",
       "</div>"
      ],
      "text/plain": [
       "   slno                                 grp  Round_Centre  FSU_number  Round  \\\n",
       "0     1  40999999999999992652495293775872.0             1       41000     68   \n",
       "1     2  40999999999999992652495293775872.0             1       41000     68   \n",
       "2     3  40999999999999992652495293775872.0             1       41000     68   \n",
       "3     4  40999999999999992652495293775872.0             1       41000     68   \n",
       "4     5  40999999999999992652495293775872.0             1       41000     68   \n",
       "\n",
       "   Schedule_Number  Sample  Sector  state  State_Region  ...  pickle_v  \\\n",
       "0               10       1       2     24           242  ...       0.0   \n",
       "1               10       1       2     24           242  ...       0.0   \n",
       "2               10       1       2     24           242  ...       0.0   \n",
       "3               10       1       2     24           242  ...       0.0   \n",
       "4               10       1       2     24           242  ...       0.0   \n",
       "\n",
       "   sauce_jam_v  Othrprocessed_v  Beveragestotal_v  foodtotal_v  foodtotal_q  \\\n",
       "0          0.0              0.0          0.000000  1141.492400    30.942394   \n",
       "1          0.0              0.0         17.500000  1244.553500    29.286153   \n",
       "2          0.0              0.0          0.000000  1050.315400    31.527046   \n",
       "3          0.0              0.0         33.333333  1142.591667    27.834607   \n",
       "4          0.0              0.0         75.000000   945.249500    27.600713   \n",
       "\n",
       "   state_1  Region  fruits_df_tt_v  fv_tot  \n",
       "0      GUJ       2       12.000000  154.18  \n",
       "1      GUJ       2      333.000000  484.95  \n",
       "2      GUJ       2       35.000000  214.84  \n",
       "3      GUJ       2      168.333333  302.30  \n",
       "4      GUJ       2       15.000000  148.00  \n",
       "\n",
       "[5 rows x 384 columns]"
      ]
     },
     "execution_count": 39,
     "metadata": {},
     "output_type": "execute_result"
    }
   ],
   "source": [
    "# Load the dataset\n",
    "data = pd.read_csv(\"C:/Users/Aakash/Desktop/SCMA/NSSO68.csv\")\n",
    "data.head()"
   ]
  },
  {
   "cell_type": "code",
   "execution_count": 40,
   "metadata": {},
   "outputs": [
    {
     "name": "stdout",
     "output_type": "stream",
     "text": [
      "   slno                                 grp  Round_Centre  FSU_number  Round  \\\n",
      "0     1  40999999999999992652495293775872.0             1       41000     68   \n",
      "1     2  40999999999999992652495293775872.0             1       41000     68   \n",
      "2     3  40999999999999992652495293775872.0             1       41000     68   \n",
      "3     4  40999999999999992652495293775872.0             1       41000     68   \n",
      "4     5  40999999999999992652495293775872.0             1       41000     68   \n",
      "\n",
      "   Schedule_Number  Sample  Sector  state  State_Region  ...  pickle_v  \\\n",
      "0               10       1       2     24           242  ...       0.0   \n",
      "1               10       1       2     24           242  ...       0.0   \n",
      "2               10       1       2     24           242  ...       0.0   \n",
      "3               10       1       2     24           242  ...       0.0   \n",
      "4               10       1       2     24           242  ...       0.0   \n",
      "\n",
      "   sauce_jam_v  Othrprocessed_v  Beveragestotal_v  foodtotal_v  foodtotal_q  \\\n",
      "0          0.0              0.0          0.000000  1141.492400    30.942394   \n",
      "1          0.0              0.0         17.500000  1244.553500    29.286153   \n",
      "2          0.0              0.0          0.000000  1050.315400    31.527046   \n",
      "3          0.0              0.0         33.333333  1142.591667    27.834607   \n",
      "4          0.0              0.0         75.000000   945.249500    27.600713   \n",
      "\n",
      "   state_1  Region  fruits_df_tt_v  fv_tot  \n",
      "0      GUJ       2       12.000000  154.18  \n",
      "1      GUJ       2      333.000000  484.95  \n",
      "2      GUJ       2       35.000000  214.84  \n",
      "3      GUJ       2      168.333333  302.30  \n",
      "4      GUJ       2       15.000000  148.00  \n",
      "\n",
      "[5 rows x 384 columns]\n"
     ]
    }
   ],
   "source": [
    "# Display the first few rows of the dataset\n",
    "print(data.head())"
   ]
  },
  {
   "cell_type": "code",
   "execution_count": 41,
   "metadata": {},
   "outputs": [
    {
     "name": "stdout",
     "output_type": "stream",
     "text": [
      "               slno  Round_Centre     FSU_number     Round  Schedule_Number  \\\n",
      "count  101662.00000      101662.0  101662.000000  101662.0         101662.0   \n",
      "mean    50831.50000           1.0   62650.405294      68.0             10.0   \n",
      "std     29347.43587           0.0   14800.582278       0.0              0.0   \n",
      "min         1.00000           1.0   41000.000000      68.0             10.0   \n",
      "25%     25416.25000           1.0   46527.000000      68.0             10.0   \n",
      "50%     50831.50000           1.0   71793.000000      68.0             10.0   \n",
      "75%     76246.75000           1.0   75374.000000      68.0             10.0   \n",
      "max    101662.00000           1.0   79998.000000      68.0             10.0   \n",
      "\n",
      "         Sample         Sector          state   State_Region       District  \\\n",
      "count  101662.0  101662.000000  101662.000000  101662.000000  101662.000000   \n",
      "mean        1.0       1.412809      18.480475     187.075023      14.314493   \n",
      "std         0.0       0.492341       9.724855      97.477505      12.633311   \n",
      "min         1.0       1.000000       1.000000      11.000000       1.000000   \n",
      "25%         1.0       1.000000       9.000000      95.000000       5.000000   \n",
      "50%         1.0       1.000000      19.000000     194.000000      11.000000   \n",
      "75%         1.0       2.000000      27.000000     275.000000      20.000000   \n",
      "max         1.0       2.000000      35.000000     351.000000      71.000000   \n",
      "\n",
      "       ...  preparedsweet_v       pickle_v    sauce_jam_v  Othrprocessed_v  \\\n",
      "count  ...    101662.000000  101662.000000  101662.000000    101662.000000   \n",
      "mean   ...         8.585428       0.000890       0.000447         1.758345   \n",
      "std    ...        27.233632       0.003494       0.003129        78.892958   \n",
      "min    ...         0.000000       0.000000       0.000000         0.000000   \n",
      "25%    ...         0.000000       0.000000       0.000000         0.000000   \n",
      "50%    ...         0.000000       0.000000       0.000000         0.000000   \n",
      "75%    ...         8.750000       0.000000       0.000000         0.000000   \n",
      "max    ...      4591.666667       0.150000       0.105000     25000.000000   \n",
      "\n",
      "       Beveragestotal_v    foodtotal_v    foodtotal_q         Region  \\\n",
      "count     101662.000000  101662.000000  101662.000000  101662.000000   \n",
      "mean          22.107033     632.363361      24.425867       2.270278   \n",
      "std           87.234010     367.575942       9.963954       1.335235   \n",
      "min            0.000000       0.000000       0.000000       1.000000   \n",
      "25%            4.166667     411.092812      18.750315       1.000000   \n",
      "50%           12.000000     564.842818      23.022847       2.000000   \n",
      "75%           26.672417     775.678250      28.558968       3.000000   \n",
      "max        25030.000000   25852.584000     496.205150       6.000000   \n",
      "\n",
      "       fruits_df_tt_v         fv_tot  \n",
      "count   101662.000000  101662.000000  \n",
      "mean        30.592599     109.811496  \n",
      "std         54.317484      88.606461  \n",
      "min          0.000000       0.000000  \n",
      "25%          2.000000      58.101667  \n",
      "50%         14.285714      88.000000  \n",
      "75%         37.500000     134.372857  \n",
      "max       5708.250000    6024.725000  \n",
      "\n",
      "[8 rows x 382 columns]\n"
     ]
    }
   ],
   "source": [
    "# Display summary statistics\n",
    "print(data.describe())"
   ]
  },
  {
   "cell_type": "code",
   "execution_count": 42,
   "metadata": {},
   "outputs": [
    {
     "name": "stdout",
     "output_type": "stream",
     "text": [
      "Index(['slno', 'grp', 'Round_Centre', 'FSU_number', 'Round', 'Schedule_Number',\n",
      "       'Sample', 'Sector', 'state', 'State_Region',\n",
      "       ...\n",
      "       'pickle_v', 'sauce_jam_v', 'Othrprocessed_v', 'Beveragestotal_v',\n",
      "       'foodtotal_v', 'foodtotal_q', 'state_1', 'Region', 'fruits_df_tt_v',\n",
      "       'fv_tot'],\n",
      "      dtype='object', length=384)\n"
     ]
    }
   ],
   "source": [
    "# Display the column names\n",
    "print(data.columns)"
   ]
  },
  {
   "cell_type": "code",
   "execution_count": 43,
   "metadata": {},
   "outputs": [
    {
     "name": "stdout",
     "output_type": "stream",
     "text": [
      "slno              0\n",
      "grp               0\n",
      "Round_Centre      0\n",
      "FSU_number        0\n",
      "Round             0\n",
      "                 ..\n",
      "foodtotal_q       0\n",
      "state_1           0\n",
      "Region            0\n",
      "fruits_df_tt_v    0\n",
      "fv_tot            0\n",
      "Length: 384, dtype: int64\n"
     ]
    }
   ],
   "source": [
    "# Data preprocessing\n",
    "# Check for missing values\n",
    "print(data.isnull().sum())"
   ]
  },
  {
   "cell_type": "code",
   "execution_count": 49,
   "metadata": {},
   "outputs": [],
   "source": [
    "# Create a binary variable for non-vegetarian status\n",
    "data['non_veg'] = ((data['eggsno_q'] > 0) | \n",
    "                   (data['fishprawn_q'] > 0) | \n",
    "                   (data['goatmeat_q'] > 0) |\n",
    "                   (data['beef_q'] > 0) | \n",
    "                   (data['pork_q'] > 0) | \n",
    "                   (data['chicken_q'] > 0) | \n",
    "                   (data['othrbirds_q'] > 0)).astype(int)"
   ]
  },
  {
   "cell_type": "code",
   "execution_count": 52,
   "metadata": {},
   "outputs": [],
   "source": [
    "# Select relevant variables for the probit model\n",
    "independent_vars = ['non_veg', 'Age', 'Sex', 'hhdsz', 'Religion', 'Education', 'MPCE_URP', 'state', 'State_Region']\n",
    "X = data[independent_vars]\n",
    "y = data['non_veg']"
   ]
  },
  {
   "cell_type": "code",
   "execution_count": 53,
   "metadata": {},
   "outputs": [],
   "source": [
    "# Remove rows with NA values in the selected columns\n",
    "X = X.dropna()\n",
    "y = y.loc[X.index]"
   ]
  },
  {
   "cell_type": "code",
   "execution_count": 54,
   "metadata": {},
   "outputs": [],
   "source": [
    "# Add a constant to the model\n",
    "X = sm.add_constant(X)"
   ]
  },
  {
   "cell_type": "code",
   "execution_count": 35,
   "metadata": {},
   "outputs": [],
   "source": [
    "# Convert X and y to numpy arrays to ensure correct data types\n",
    "X = np.asarray(X, dtype=np.float64)\n",
    "y = np.asarray(y, dtype=np.float64)"
   ]
  },
  {
   "cell_type": "code",
   "execution_count": 55,
   "metadata": {},
   "outputs": [
    {
     "name": "stderr",
     "output_type": "stream",
     "text": [
      "c:\\Users\\Aakash\\anaconda3\\Lib\\site-packages\\statsmodels\\discrete\\discrete_model.py:227: PerfectSeparationWarning: Perfect separation or prediction detected, parameter may not be identified\n",
      "  warnings.warn(msg, category=PerfectSeparationWarning)\n",
      "c:\\Users\\Aakash\\anaconda3\\Lib\\site-packages\\statsmodels\\discrete\\discrete_model.py:227: PerfectSeparationWarning: Perfect separation or prediction detected, parameter may not be identified\n",
      "  warnings.warn(msg, category=PerfectSeparationWarning)\n",
      "c:\\Users\\Aakash\\anaconda3\\Lib\\site-packages\\statsmodels\\discrete\\discrete_model.py:227: PerfectSeparationWarning: Perfect separation or prediction detected, parameter may not be identified\n",
      "  warnings.warn(msg, category=PerfectSeparationWarning)\n",
      "c:\\Users\\Aakash\\anaconda3\\Lib\\site-packages\\statsmodels\\discrete\\discrete_model.py:227: PerfectSeparationWarning: Perfect separation or prediction detected, parameter may not be identified\n",
      "  warnings.warn(msg, category=PerfectSeparationWarning)\n",
      "c:\\Users\\Aakash\\anaconda3\\Lib\\site-packages\\statsmodels\\discrete\\discrete_model.py:227: PerfectSeparationWarning: Perfect separation or prediction detected, parameter may not be identified\n",
      "  warnings.warn(msg, category=PerfectSeparationWarning)\n",
      "c:\\Users\\Aakash\\anaconda3\\Lib\\site-packages\\statsmodels\\discrete\\discrete_model.py:227: PerfectSeparationWarning: Perfect separation or prediction detected, parameter may not be identified\n",
      "  warnings.warn(msg, category=PerfectSeparationWarning)\n",
      "c:\\Users\\Aakash\\anaconda3\\Lib\\site-packages\\statsmodels\\discrete\\discrete_model.py:227: PerfectSeparationWarning: Perfect separation or prediction detected, parameter may not be identified\n",
      "  warnings.warn(msg, category=PerfectSeparationWarning)\n",
      "c:\\Users\\Aakash\\anaconda3\\Lib\\site-packages\\statsmodels\\discrete\\discrete_model.py:227: PerfectSeparationWarning: Perfect separation or prediction detected, parameter may not be identified\n",
      "  warnings.warn(msg, category=PerfectSeparationWarning)\n",
      "c:\\Users\\Aakash\\anaconda3\\Lib\\site-packages\\statsmodels\\discrete\\discrete_model.py:227: PerfectSeparationWarning: Perfect separation or prediction detected, parameter may not be identified\n",
      "  warnings.warn(msg, category=PerfectSeparationWarning)\n",
      "c:\\Users\\Aakash\\anaconda3\\Lib\\site-packages\\statsmodels\\discrete\\discrete_model.py:227: PerfectSeparationWarning: Perfect separation or prediction detected, parameter may not be identified\n",
      "  warnings.warn(msg, category=PerfectSeparationWarning)\n",
      "c:\\Users\\Aakash\\anaconda3\\Lib\\site-packages\\statsmodels\\discrete\\discrete_model.py:227: PerfectSeparationWarning: Perfect separation or prediction detected, parameter may not be identified\n",
      "  warnings.warn(msg, category=PerfectSeparationWarning)\n",
      "c:\\Users\\Aakash\\anaconda3\\Lib\\site-packages\\statsmodels\\discrete\\discrete_model.py:227: PerfectSeparationWarning: Perfect separation or prediction detected, parameter may not be identified\n",
      "  warnings.warn(msg, category=PerfectSeparationWarning)\n"
     ]
    },
    {
     "name": "stdout",
     "output_type": "stream",
     "text": [
      "Warning: Maximum number of iterations has been exceeded.\n",
      "         Current function value: 0.000000\n",
      "         Iterations: 35\n"
     ]
    },
    {
     "name": "stderr",
     "output_type": "stream",
     "text": [
      "c:\\Users\\Aakash\\anaconda3\\Lib\\site-packages\\statsmodels\\discrete\\discrete_model.py:227: PerfectSeparationWarning: Perfect separation or prediction detected, parameter may not be identified\n",
      "  warnings.warn(msg, category=PerfectSeparationWarning)\n",
      "c:\\Users\\Aakash\\anaconda3\\Lib\\site-packages\\statsmodels\\discrete\\discrete_model.py:227: PerfectSeparationWarning: Perfect separation or prediction detected, parameter may not be identified\n",
      "  warnings.warn(msg, category=PerfectSeparationWarning)\n",
      "c:\\Users\\Aakash\\anaconda3\\Lib\\site-packages\\statsmodels\\discrete\\discrete_model.py:227: PerfectSeparationWarning: Perfect separation or prediction detected, parameter may not be identified\n",
      "  warnings.warn(msg, category=PerfectSeparationWarning)\n",
      "c:\\Users\\Aakash\\anaconda3\\Lib\\site-packages\\statsmodels\\discrete\\discrete_model.py:227: PerfectSeparationWarning: Perfect separation or prediction detected, parameter may not be identified\n",
      "  warnings.warn(msg, category=PerfectSeparationWarning)\n",
      "c:\\Users\\Aakash\\anaconda3\\Lib\\site-packages\\statsmodels\\discrete\\discrete_model.py:227: PerfectSeparationWarning: Perfect separation or prediction detected, parameter may not be identified\n",
      "  warnings.warn(msg, category=PerfectSeparationWarning)\n",
      "c:\\Users\\Aakash\\anaconda3\\Lib\\site-packages\\statsmodels\\base\\model.py:607: ConvergenceWarning: Maximum Likelihood optimization failed to converge. Check mle_retvals\n",
      "  warnings.warn(\"Maximum Likelihood optimization failed to \"\n"
     ]
    }
   ],
   "source": [
    "# Fit the probit regression model\n",
    "probit_model = sm.Probit(y, X).fit()"
   ]
  },
  {
   "cell_type": "code",
   "execution_count": 56,
   "metadata": {},
   "outputs": [
    {
     "name": "stdout",
     "output_type": "stream",
     "text": [
      "                          Probit Regression Results                           \n",
      "==============================================================================\n",
      "Dep. Variable:                non_veg   No. Observations:               101652\n",
      "Model:                         Probit   Df Residuals:                   101642\n",
      "Method:                           MLE   Df Model:                            9\n",
      "Date:                Tue, 02 Jul 2024   Pseudo R-squ.:                   1.000\n",
      "Time:                        08:36:15   Log-Likelihood:            -5.0011e-06\n",
      "converged:                      False   LL-Null:                       -64125.\n",
      "Covariance Type:            nonrobust   LLR p-value:                     0.000\n",
      "================================================================================\n",
      "                   coef    std err          z      P>|z|      [0.025      0.975]\n",
      "--------------------------------------------------------------------------------\n",
      "const           -7.5080    564.900     -0.013      0.989   -1114.691    1099.675\n",
      "non_veg         13.2214    240.714      0.055      0.956    -458.568     485.011\n",
      "Age              0.0078      5.899      0.001      0.999     -11.554      11.570\n",
      "Sex              0.0361    237.207      0.000      1.000    -464.880     464.952\n",
      "hhdsz            0.0376     22.063      0.002      0.999     -43.205      43.280\n",
      "Religion        -0.0558     29.283     -0.002      0.998     -57.450      57.339\n",
      "Education        0.0279     21.091      0.001      0.999     -41.311      41.366\n",
      "MPCE_URP      1.391e-06      0.014   9.86e-05      1.000      -0.028       0.028\n",
      "state           -0.0359    585.315  -6.13e-05      1.000   -1147.233    1147.161\n",
      "State_Region     0.0046     58.411   7.92e-05      1.000    -114.480     114.489\n",
      "================================================================================\n",
      "\n",
      "Complete Separation: The results show that there iscomplete separation or perfect prediction.\n",
      "In this case the Maximum Likelihood Estimator does not exist and the parameters\n",
      "are not identified.\n"
     ]
    }
   ],
   "source": [
    "# Summarize the model\n",
    "print(probit_model.summary())"
   ]
  },
  {
   "cell_type": "code",
   "execution_count": 57,
   "metadata": {},
   "outputs": [],
   "source": [
    "# Make predictions\n",
    "data_clean['predicted_prob'] = probit_model.predict(X)"
   ]
  },
  {
   "cell_type": "code",
   "execution_count": 58,
   "metadata": {},
   "outputs": [
    {
     "name": "stderr",
     "output_type": "stream",
     "text": [
      "c:\\Users\\Aakash\\anaconda3\\Lib\\site-packages\\seaborn\\_oldcore.py:1119: FutureWarning: use_inf_as_na option is deprecated and will be removed in a future version. Convert inf values to NaN before operating instead.\n",
      "  with pd.option_context('mode.use_inf_as_na', True):\n",
      "c:\\Users\\Aakash\\anaconda3\\Lib\\site-packages\\seaborn\\_oldcore.py:1075: FutureWarning: When grouping with a length-1 list-like, you will need to pass a length-1 tuple to get_group in a future version of pandas. Pass `(name,)` instead of `name` to silence this warning.\n",
      "  data_subset = grouped_data.get_group(pd_key)\n",
      "c:\\Users\\Aakash\\anaconda3\\Lib\\site-packages\\seaborn\\_oldcore.py:1075: FutureWarning: When grouping with a length-1 list-like, you will need to pass a length-1 tuple to get_group in a future version of pandas. Pass `(name,)` instead of `name` to silence this warning.\n",
      "  data_subset = grouped_data.get_group(pd_key)\n",
      "c:\\Users\\Aakash\\anaconda3\\Lib\\site-packages\\seaborn\\_oldcore.py:1075: FutureWarning: When grouping with a length-1 list-like, you will need to pass a length-1 tuple to get_group in a future version of pandas. Pass `(name,)` instead of `name` to silence this warning.\n",
      "  data_subset = grouped_data.get_group(pd_key)\n",
      "c:\\Users\\Aakash\\anaconda3\\Lib\\site-packages\\seaborn\\_oldcore.py:1075: FutureWarning: When grouping with a length-1 list-like, you will need to pass a length-1 tuple to get_group in a future version of pandas. Pass `(name,)` instead of `name` to silence this warning.\n",
      "  data_subset = grouped_data.get_group(pd_key)\n"
     ]
    },
    {
     "data": {
      "image/png": "[encoded data removed]",
      "text/plain": [
       "<Figure size 1000x600 with 1 Axes>"
      ]
     },
     "metadata": {},
     "output_type": "display_data"
    }
   ],
   "source": [
    "# Visualize the results\n",
    "plt.figure(figsize=(10, 6))\n",
    "sns.histplot(data=data_clean, x='predicted_prob', hue='non_veg', bins=30, element=\"step\", stat=\"density\", common_norm=False)\n",
    "plt.title('Predicted Probability of Being Non-Vegetarian')\n",
    "plt.xlabel('Predicted Probability')\n",
    "plt.ylabel('Density')\n",
    "plt.legend(title='Non-Vegetarian Status', labels=['No', 'Yes'])\n",
    "plt.show()"
   ]
  }
 ],
 "metadata": {
  "kernelspec": {
   "display_name": "base",
   "language": "python",
   "name": "python3"
  },
  "language_info": {
   "codemirror_mode": {
    "name": "ipython",
    "version": 3
   },
   "file_extension": ".py",
   "mimetype": "text/x-python",
   "name": "python",
   "nbconvert_exporter": "python",
   "pygments_lexer": "ipython3",
   "version": "3.11.5"
  }
 },
 "nbformat": 4,
 "nbformat_minor": 2
}
